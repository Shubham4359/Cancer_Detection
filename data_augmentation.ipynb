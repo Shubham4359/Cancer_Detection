source = '/content/data/Birad3/b3'
dest = '/content/testdata/Birad3'

allfiles = os.listdir(source)
size = len(allfiles)
print(size)

from PIL import Image
import imgaug.augmenters as iaa
import uuid
import matplotlib.pyplot as plt
from keras.preprocessing.image import ImageDataGenerator
from tensorflow.keras.utils import img_to_array
import numpy as np 
import cv2
# Initialising the ImageDataGenerator class.
# We will pass in the augmentation parameters in the constructor.

datagen = ImageDataGenerator(width_shift_range=0.2,
                             height_shift_range=0.2,
                             horizontal_flip=True,
                             rotation_range=50,
                             brightness_range=[0.15,2.0],
                             zoom_range=[5,0.5])
    
for i in range(size-round(size*0.1)-1,size-1):
  scr_path = os.path.join(source, allfiles[i])
  # Loading a sample image 
  image = Image.open(scr_path)
  plt.imshow(image)
  plt.show()
  image_data = img_to_array(image)
  #---convert into a 4-D array of 1 element of 3D array representing
  # the image---
  images_data = np.expand_dims(image_data, axis=0)
  train_generator = datagen.flow(images_data, batch_size=1)
rows = 8
columns = 8
fig, axes = plt.subplots(rows,columns)
for r in range(rows):
    for c in range(columns):
        image_batch = train_generator.next()
        image = image_batch[0].astype('uint8')
        file_name = f"{uuid.uuid4()}.jpg"
        scr_path1 = os.path.join(scr_path,file_name )
        cv2.imwrite(scr_path,image)
        axes[r,c].imshow(image)
fig.set_size_inches(15,10)


allfiles = os.listdir(source)
size = len(allfiles)
print(size)
for i in range(size-round(size*0.1)-1,size-1):
  scr_path = os.path.join(source, allfiles[i])
  dest_path = os.path.join(dest, allfiles[i])
  shutil.move(scr_path, dest_path)
source = '/content/data/Birad4/b4'
dest = '/content/testdata/Birad4'


allfiles = os.listdir(source)
size = len(allfiles)
print(size)
for i in range(size-round(size*0.1)-1,size-1):
  scr_path = os.path.join(source, allfiles[i])
  dest_path = os.path.join(dest, allfiles[i])
  shutil.move(scr_path, dest_path)
